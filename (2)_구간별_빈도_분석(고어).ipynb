{
  "nbformat": 4,
  "nbformat_minor": 0,
  "metadata": {
    "colab": {
      "provenance": [],
      "include_colab_link": true
    },
    "kernelspec": {
      "name": "python3",
      "display_name": "Python 3"
    },
    "language_info": {
      "name": "python"
    }
  },
  "cells": [
    {
      "cell_type": "markdown",
      "metadata": {
        "id": "view-in-github",
        "colab_type": "text"
      },
      "source": [
        "<a href=\"https://colab.research.google.com/github/leehgkor/lhg/blob/main/(2)_%EA%B5%AC%EA%B0%84%EB%B3%84_%EB%B9%88%EB%8F%84_%EB%B6%84%EC%84%9D(%EA%B3%A0%EC%96%B4).ipynb\" target=\"_parent\"><img src=\"https://colab.research.google.com/assets/colab-badge.svg\" alt=\"Open In Colab\"/></a>"
      ]
    },
    {
      "cell_type": "code",
      "source": [
        "# step 1: 필요한 라이브러리 임포트\n",
        "\n",
        "!pip install koreanize-matplotlib\n",
        "\n",
        "import os\n",
        "import re\n",
        "import chardet\n",
        "from sklearn.feature_extraction.text import TfidfVectorizer\n",
        "import pandas as pd\n",
        "import matplotlib.pyplot as plt\n",
        "import koreanize_matplotlib\n"
      ],
      "metadata": {
        "id": "OhFQQSVnxFsk"
      },
      "execution_count": null,
      "outputs": []
    },
    {
      "cell_type": "code",
      "execution_count": null,
      "metadata": {
        "id": "UCm2kVL4vtp2"
      },
      "outputs": [],
      "source": [
        "# step 2: 파일 읽기 및 인코딩 확인\n",
        "\n",
        "def read_file_with_encoding(filepath):\n",
        "    with open(filepath, 'rb') as f:\n",
        "        raw_data = f.read()\n",
        "        detected_encoding = chardet.detect(raw_data)['encoding']\n",
        "        print(f\"Detected encoding: {detected_encoding}\")\n",
        "    with open(filepath, 'r', encoding=detected_encoding) as f:\n",
        "        content = f.read()\n",
        "    return content\n",
        "\n",
        "# 파일 경로 설정\n",
        "file_path = \"/content/소현성록 서울대도서관본.txt\"\n",
        "text_data = read_file_with_encoding(file_path)\n",
        "print(\"텍스트 (앞부분):\")\n",
        "print(text_data[:500])  # 첫 500자 출력"
      ]
    },
    {
      "cell_type": "code",
      "source": [
        "# step 3: 텍스트 전처리\n",
        "\n",
        "def remove_tags_and_content(text):\n",
        "    # 태그와 태그 안의 내용을 완전히 제거\n",
        "    cleaned_text = re.sub(r\"<[^>]*?>.*?</[^>]*?>\", \"\", text)  # 닫는 태그와 함께 제거\n",
        "    cleaned_text = re.sub(r\"<[^>]+>\", \"\", cleaned_text)  # Self-closing 태그 제거\n",
        "    return cleaned_text.strip()\n",
        "\n",
        "cleaned_text = remove_tags_and_content(text_data)\n",
        "\n",
        "# 전처리된 텍스트의 앞부분 출력\n",
        "print(\"전처리된 텍스트 (앞부분):\")\n",
        "print(cleaned_text[:500])  # 첫 500자 출력\n"
      ],
      "metadata": {
        "id": "PieNHgEFyGTQ"
      },
      "execution_count": null,
      "outputs": []
    },
    {
      "cell_type": "code",
      "source": [
        "# step 4: 텍스트 구간 분절\n",
        "\n",
        "def split_text_into_segments(text, num_segments):\n",
        "    lines = text.splitlines()\n",
        "    lines = [line.strip() for line in lines if line.strip()]  # 빈 줄 제거\n",
        "    segment_size = len(lines) // num_segments\n",
        "    segments = [lines[i * segment_size: (i + 1) * segment_size] for i in range(num_segments)]\n",
        "    segments = [\" \".join(segment) for segment in segments]\n",
        "    return segments\n",
        "\n",
        "# 구간 설정\n",
        "num_segments = 5  # 원하는 구간 수\n",
        "segments = split_text_into_segments(cleaned_text, num_segments)\n",
        "print(segments)"
      ],
      "metadata": {
        "id": "e-pwICELxuQn"
      },
      "execution_count": null,
      "outputs": []
    },
    {
      "cell_type": "code",
      "source": [
        "# step 5: TF-IDF를 활용한 핵심어 추출\n",
        "\n",
        "# 사용자 지정 불용어\n",
        "custom_stopwords = [\"때문\", \"사람\", \"이것\", \"그것\", \"우리\", \"그녀\", \"자기\", \"이다\", \"쇼왈\", \"아니니\", \"생각\", \"자네\", \"저것\", \"그때\", \"엇지\", \"니르니\", \"더브러\", \"아니\", \"비록\", \"임의\", \"상셰\", \"시니\", \"리오\", \"지라\", \"더라\", \"더니\", \"보뫼\", \"아냐\", \"보고\", \"말을\" ]\n",
        "\n",
        "vectorizer = TfidfVectorizer(max_features=500, stop_words=custom_stopwords)  # 상위 500개 단어 제한\n",
        "X = vectorizer.fit_transform(segments)\n",
        "feature_names = vectorizer.get_feature_names_out()\n",
        "\n",
        "# 각 구간별로 핵심어 추출\n",
        "def extract_top_keywords(tfidf_matrix, feature_names, top_n=5):\n",
        "    top_keywords = {}\n",
        "    for i, row in enumerate(tfidf_matrix.toarray()):\n",
        "        top_indices = row.argsort()[-top_n:][::-1]  # 상위 N개 단어의 인덱스\n",
        "        keywords = [(feature_names[idx], row[idx]) for idx in top_indices]\n",
        "        top_keywords[f\"구간 {i + 1}\"] = keywords\n",
        "    return top_keywords\n",
        "\n",
        "# 핵심어 추출\n",
        "top_keywords = extract_top_keywords(X, feature_names, top_n=5)\n"
      ],
      "metadata": {
        "id": "SQD4XhsTxz0l"
      },
      "execution_count": null,
      "outputs": []
    },
    {
      "cell_type": "code",
      "source": [
        "# step 6: 결과 정리 및 시각화\n",
        "\n",
        "# 데이터를 DataFrame으로 변환\n",
        "data = []\n",
        "for segment, keywords in top_keywords.items():\n",
        "    for word, score in keywords:\n",
        "        data.append({\"구간\": segment, \"단어\": word, \"TF-IDF 점수\": score})\n",
        "keywords_df = pd.DataFrame(data)\n",
        "\n",
        "# 피벗 테이블 생성 (단어별 구간 점수로 변환)\n",
        "pivot_df = keywords_df.pivot(index=\"단어\", columns=\"구간\", values=\"TF-IDF 점수\").fillna(0)\n",
        "\n",
        "# 라인 그래프 생성\n",
        "plt.figure(figsize=(12, 8))\n",
        "for word in pivot_df.index:\n",
        "    plt.plot(pivot_df.columns, pivot_df.loc[word], marker=\"o\", label=word)\n",
        "\n",
        "# 그래프 세부 설정\n",
        "plt.title(\"구간별 핵심어 TF-IDF 점수 변화\", fontsize=16)\n",
        "plt.xlabel(\"구간\", fontsize=14)\n",
        "plt.ylabel(\"TF-IDF 점수\", fontsize=14)\n",
        "plt.legend(title=\"단어\", bbox_to_anchor=(1.05, 1), loc=\"upper left\", fontsize=10)\n",
        "plt.grid(True)\n",
        "plt.tight_layout()\n",
        "\n",
        "# 그래프 표시\n",
        "plt.show()\n",
        "\n",
        "# 결과 출력\n",
        "for segment, keywords in top_keywords.items():\n",
        "    print(f\"\\n{segment}의 상위 핵심어:\")\n",
        "    for word, score in keywords:\n",
        "        print(f\"{word}: {score:.4f}\")\n"
      ],
      "metadata": {
        "id": "Sku2pJ_0x5gj"
      },
      "execution_count": null,
      "outputs": []
    }
  ]
}